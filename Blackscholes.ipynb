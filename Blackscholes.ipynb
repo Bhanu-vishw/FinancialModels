{
 "cells": [
  {
   "cell_type": "code",
   "execution_count": 158,
   "id": "90a7c579-dade-4fae-aa0b-d21275194275",
   "metadata": {},
   "outputs": [],
   "source": [
    "from sympy import *\n",
    "import numpy as np\n",
    "from scipy.stats import norm"
   ]
  },
  {
   "cell_type": "code",
   "execution_count": 159,
   "id": "9ef92631-6ec6-4fb9-b41e-4a24cc85eb93",
   "metadata": {},
   "outputs": [],
   "source": [
    "N = norm(0, 1)"
   ]
  },
  {
   "cell_type": "markdown",
   "id": "5a7c6440-af7d-4fe6-b0b4-95199fba51b0",
   "metadata": {},
   "source": [
    "### d1 & d2 for blackscholes"
   ]
  },
  {
   "cell_type": "code",
   "execution_count": 162,
   "id": "c6887380-5bd1-49ac-9bc6-883c79d13754",
   "metadata": {},
   "outputs": [],
   "source": [
    "\"\"\"Args:\n",
    "    s (float): underlying spot price\n",
    "    k (float): strike price\n",
    "    r (float): continuous risk free rate\n",
    "    q (float): continuous dividend yield\n",
    "    v (float): return volatility\n",
    "    t (float): time to expiry \n",
    "\"\"\"\n",
    "\n",
    "#d1\n",
    "\n",
    "def d1(s, k, r, q, v, t):\n",
    "\n",
    "    if t == 0:\n",
    "        raise ValueError(\"Time to expiry (t) must be greater than 0.\")\n",
    "\n",
    "    a = (np.log(s / k) + (r - q + 0.5 * v**2) * t) / (v * np.sqrt(t))\n",
    "\n",
    "    return a\n",
    "\n",
    "#d2\n",
    "\n",
    "def d2(s, k, r, q, v, t):\n",
    "\n",
    "    b = d1(s, k, r, q, v, t) - v * np.sqrt(t)\n",
    "\n",
    "    return b"
   ]
  },
  {
   "cell_type": "code",
   "execution_count": 163,
   "id": "6b93d99f-001a-4ad2-ba67-c2f3f617aaeb",
   "metadata": {},
   "outputs": [],
   "source": [
    "\"\"\"Moneyness indicator\n",
    "\n",
    "    Args:\n",
    "        s (float): underlying price\n",
    "        k (float): strike price\n",
    "        is_call (bool): True if is call option else False if put\n",
    "\n",
    "\"\"\"\n",
    "\n",
    "def itm(s, k, is_call):\n",
    "\n",
    "    if is_call:\n",
    "        i = s>k\n",
    "    else:\n",
    "        i = s<k\n",
    "\n",
    "    return i"
   ]
  },
  {
   "cell_type": "code",
   "execution_count": 164,
   "id": "8c7fb7f6-113b-403c-9115-cc455554c026",
   "metadata": {},
   "outputs": [],
   "source": [
    "\"\"\"Payoff function\n",
    "\n",
    "    Args:\n",
    "        s (float): underlying price\n",
    "        k (float): strike price\n",
    "        is_call (bool): True if is call option else False if put\n",
    "\n",
    "    Returns:\n",
    "        float: the payoff\n",
    "\"\"\"\n",
    "\n",
    "def payoff(s: float, k: float, is_call: bool) -> float:\n",
    "\n",
    "    if is_call:\n",
    "        poff = max(s - k, 0)\n",
    "    else:\n",
    "        poff = max(k - s, 0)\n",
    "\n",
    "    return poff "
   ]
  },
  {
   "cell_type": "markdown",
   "id": "ca11c41d-4046-4ffa-81a1-4cf34ccf8d1d",
   "metadata": {},
   "source": [
    "### Price"
   ]
  },
  {
   "cell_type": "code",
   "execution_count": 165,
   "id": "5fc07c94-0b87-4a8f-9414-e3ee1cda8b0e",
   "metadata": {},
   "outputs": [],
   "source": [
    "\"\"\"Black-Scholes price\n",
    "\n",
    "    Args:\n",
    "        s (float): underlying spot price\n",
    "        k (float): strike price\n",
    "        r (float): continuous risk free rate\n",
    "        q (float): continuous dividend yield\n",
    "        v (float): return volatility\n",
    "        t (float): time to expiry\n",
    "        is_call (bool): True if is call option else False if put\n",
    "\n",
    "    Returns:\n",
    "        float: Black-Scholes price\n",
    "\"\"\"\n",
    "\n",
    "def price(s, k, r, q, v, t, is_call):\n",
    "\n",
    "    D1 = d1(s, k, r, q, v, t)\n",
    "    D2 = d2(s, k, r, q, v, t)\n",
    "\n",
    "    if is_call:\n",
    "        p = s * np.exp(-q * t) * N.cdf(D1) - k * np.exp(-r * t) * N.cdf(D2)\n",
    "    else:\n",
    "        p = k * np.exp(-r * t) * N.cdf(-D2) - s * np.exp(-q * t) * N.cdf(-D1)\n",
    "\n",
    "    return p"
   ]
  },
  {
   "cell_type": "markdown",
   "id": "e24589d8-1376-4614-bef6-98fd609f89e2",
   "metadata": {},
   "source": [
    "### Delta"
   ]
  },
  {
   "cell_type": "code",
   "execution_count": 166,
   "id": "e33acd3d-a7b5-473f-bb25-eb888e7ee546",
   "metadata": {},
   "outputs": [],
   "source": [
    "\"\"\"Black-Scholes delta\n",
    "\n",
    "    Args:\n",
    "        s (float): underlying spot price\n",
    "        k (float): strike price\n",
    "        r (float): continuous risk free rate\n",
    "        q (float): continuous dividend yield\n",
    "        v (float): return volatility\n",
    "        t (float): time to expiry\n",
    "        is_call (bool): True if is call option else False if put\n",
    "\n",
    "    Returns:\n",
    "        float: Black-Scholes delta\n",
    "\"\"\"\n",
    "\n",
    "def delta(s, k, r, q, v, t, is_call):\n",
    "    \n",
    "    D1 = d1(s, k, r, q, v, t)\n",
    "\n",
    "    if is_call:\n",
    "        d =  np.exp(-q * t) * N.cdf(D1)\n",
    "    else:\n",
    "        d =  -np.exp(-q * t) * N.cdf(-D1)\n",
    "    \n",
    "    return d"
   ]
  },
  {
   "cell_type": "markdown",
   "id": "80d8f0d2-5579-4e64-9073-b26b6770c0b5",
   "metadata": {},
   "source": [
    "### Delta"
   ]
  },
  {
   "cell_type": "code",
   "execution_count": 167,
   "id": "4e76578e-ff90-441d-8e30-146c0987b75a",
   "metadata": {},
   "outputs": [],
   "source": [
    "\"\"\"Black-Scholes theta\n",
    "\n",
    "    Args:\n",
    "        s (float): underlying spot price\n",
    "        k (float): strike price\n",
    "        r (float): continuous risk free rate\n",
    "        q (float): continuous dividend yield\n",
    "        v (float): return volatility\n",
    "        t (float): time to expiry\n",
    "        is_call (bool): True if is call option else False if put\n",
    "\n",
    "    Returns:\n",
    "        float: Black-Scholes theta\n",
    "\"\"\"\n",
    "\n",
    "def theta(s, k, r, q, v, t, is_call):\n",
    "\n",
    "    D1 = d1(s, k, r, q, v, t)\n",
    "    D2 = d2(s, k, r, q, v, t)\n",
    "\n",
    "    if t == 0:\n",
    "        raise ValueError(\"Time to expiry (t) must be greater than 0.\")\n",
    "\n",
    "    term1 = -(s * v * np.exp(-q * t) * N.pdf(D1)) / (2 * np.sqrt(t))\n",
    "\n",
    "    # Implementing separate formulas for Call and Put\n",
    "    if is_call:\n",
    "        t = (term1 + q * s * np.exp(-q * t) * N.cdf(D1) - r * k * np.exp(-r * t) * N.cdf(D2))\n",
    "    else:\n",
    "        t =  (term1 - q * s * np.exp(-q * t) * N.cdf(-D1) + r * k * np.exp(-r * t) * N.cdf(-D2))\n",
    "\n",
    "    return t"
   ]
  },
  {
   "cell_type": "markdown",
   "id": "b5d22025-3aa3-4530-974e-d23b5318443a",
   "metadata": {},
   "source": [
    "### Gamma"
   ]
  },
  {
   "cell_type": "code",
   "execution_count": 168,
   "id": "bfa4117b-642b-4348-89db-98074189af8d",
   "metadata": {},
   "outputs": [],
   "source": [
    "def gamma(s, k, r, q, v, t):\n",
    "\n",
    "    if t == 0:\n",
    "        raise ValueError(\"Time to expiry (t) must be greater than 0.\")\n",
    "\n",
    "    D1 = d1(s, k, r, q, v, t)\n",
    "\n",
    "    g = (np.exp(-q * t) * N.pdf(D1)) / (s * v * np.sqrt(t))\n",
    "\n",
    "    return g"
   ]
  },
  {
   "cell_type": "markdown",
   "id": "b4878872-8307-4773-b6e7-116d7bfccd90",
   "metadata": {},
   "source": [
    "### Vega"
   ]
  },
  {
   "cell_type": "code",
   "execution_count": 169,
   "id": "be4b974e-5216-4616-921b-2b088da8abc8",
   "metadata": {},
   "outputs": [],
   "source": [
    "def vega(s, k, r, q, v, t):\n",
    "\n",
    "    D1 = d1(s, k, r, q, v, t)\n",
    "\n",
    "    v = s * np.exp(-q * t) * N.pdf(D1) * np.sqrt(t)\n",
    "\n",
    "    return v"
   ]
  },
  {
   "cell_type": "markdown",
   "id": "cffa738b-8cac-423d-aee6-6209504e9ad2",
   "metadata": {},
   "source": [
    "### Rho"
   ]
  },
  {
   "cell_type": "code",
   "execution_count": 170,
   "id": "1e8687b4-55ce-4da3-8ba9-6a75158ac64a",
   "metadata": {},
   "outputs": [],
   "source": [
    "def rho(s, k, r, q, v, t, is_call):\n",
    "\n",
    "    D2 = d2(s, k, r, q, v, t)\n",
    "\n",
    "    if is_call:\n",
    "        r_val = k * t * np.exp(-r * t) * N.cdf(D2)\n",
    "    else:\n",
    "        r_val = -k * t * np.exp(-r * t) * N.cdf(-D2)\n",
    "\n",
    "    return r_val\n"
   ]
  },
  {
   "cell_type": "code",
   "execution_count": 171,
   "id": "959318ba-7a3c-4f0a-943c-4337abb2a8fe",
   "metadata": {},
   "outputs": [],
   "source": [
    "def call_price(s, k, r, q, v, t):\n",
    "\n",
    "    c = price(s, k, r, q, v, t, is_call=True)\n",
    "\n",
    "    return c \n",
    "\n",
    "def put_price(s, k, r, q, v, t):\n",
    "\n",
    "    p = price(s, k, r, q, v, t, is_call=False)\n",
    "\n",
    "    return p"
   ]
  },
  {
   "cell_type": "code",
   "execution_count": 172,
   "id": "dc044f39-42dd-4f0b-ad82-2fed458a1c28",
   "metadata": {},
   "outputs": [],
   "source": [
    "def call_delta(s, k, r, q, v, t):\n",
    "\n",
    "    cd = delta(s, k, r, q, v, t, is_call=True)\n",
    "\n",
    "    return cd\n",
    "\n",
    "def put_delta(s, k, r, q, v, t):\n",
    "\n",
    "    pd = delta(s, k, r, q, v, t, is_call=False)\n",
    "\n",
    "    return pd"
   ]
  },
  {
   "cell_type": "code",
   "execution_count": 173,
   "id": "0222110b-9459-4e67-959e-e8ea2adae62f",
   "metadata": {},
   "outputs": [],
   "source": [
    "def call_theta(s, k, r, q, v, t):\n",
    "\n",
    "    ct = theta(s, k, r, q, v, t, is_call=True)\n",
    "\n",
    "    return ct\n",
    "\n",
    "def put_theta(s, k, r, q, v, t):\n",
    "\n",
    "    pt = theta(s, k, r, q, v, t, is_call=False)\n",
    "\n",
    "    return pt"
   ]
  },
  {
   "cell_type": "code",
   "execution_count": 174,
   "id": "5ed5601e-2588-4730-84bd-816ded0063f4",
   "metadata": {},
   "outputs": [],
   "source": [
    "\n",
    "def call_rho(s, k, r, q, v, t):\n",
    "\n",
    "    cr = rho(s, k, r, q, v, t, is_call=True)\n",
    "    \n",
    "    return cr\n",
    "\n",
    "\n",
    "def put_rho(s, k, r, q, v, t):\n",
    "\n",
    "    pr = rho(s, k, r, q, v, t, is_call=False)\n",
    "    \n",
    "    return pr"
   ]
  },
  {
   "cell_type": "markdown",
   "id": "e16bdd8c-6a9c-4580-83be-fd8909345172",
   "metadata": {},
   "source": [
    "### Test 1"
   ]
  },
  {
   "cell_type": "code",
   "execution_count": 242,
   "id": "1cb72406-cefa-465f-b68d-1610b0018890",
   "metadata": {},
   "outputs": [],
   "source": [
    "s = 75\n",
    "k = 50\n",
    "r = 0.80\n",
    "q = 0.02\n",
    "v = 0.35\n",
    "t = 2.5"
   ]
  },
  {
   "cell_type": "code",
   "execution_count": 244,
   "id": "abfe491c-4967-499b-8231-a12ab5911d04",
   "metadata": {},
   "outputs": [
    {
     "name": "stdout",
     "output_type": "stream",
     "text": [
      "Call Price =  64.57546879972466\n",
      "Call Rho =  16.916326661912844\n",
      "Call Delta =  0.9512266595265307\n",
      "Call Theta =  -3.98649324559157\n",
      "Gamma =  3.155100422843393e-07\n",
      "Vega =  0.0015529009893682326\n"
     ]
    }
   ],
   "source": [
    "print('Call Price = ', call_price(s, k, r, q, v, t))\n",
    "print('Call Rho = ', call_rho(s, k, r, q, v, t))\n",
    "print('Call Delta = ', call_delta(s, k, r, q, v, t))\n",
    "print('Call Theta = ', call_theta(s, k, r, q, v, t))\n",
    "print('Gamma = ', gamma(s, k, r, q, v, t))\n",
    "print('Vega = ', vega(s, k, r, q, v, t))"
   ]
  },
  {
   "cell_type": "markdown",
   "id": "b4aac09c-cc2a-4812-adf9-7456c6ee219b",
   "metadata": {},
   "source": [
    "### Test 2"
   ]
  },
  {
   "cell_type": "code",
   "execution_count": 238,
   "id": "80a2a9af-94fc-42b9-ba22-02fcb8294419",
   "metadata": {},
   "outputs": [],
   "source": [
    "s = 40\n",
    "k = 65\n",
    "r = 0.08\n",
    "q = 0.03\n",
    "v = 0.25\n",
    "t = 2.5"
   ]
  },
  {
   "cell_type": "code",
   "execution_count": 240,
   "id": "a4183e66-79d8-4bfb-b67e-b3aebe38880b",
   "metadata": {},
   "outputs": [
    {
     "name": "stdout",
     "output_type": "stream",
     "text": [
      "Put Price =  17.81282311787468\n",
      "Put Rho =  -115.27280992710939\n",
      "Put Delta =  -0.7074075213242269\n",
      "Put Theta =  1.9330234824712536\n",
      "Gamma =  0.018136348192143496\n",
      "Vega =  18.136348192143497\n"
     ]
    }
   ],
   "source": [
    "print('Put Price = ', put_price(s, k, r, q, v, t))\n",
    "print('Put Rho = ', put_rho(s, k, r, q, v, t))\n",
    "print('Put Delta = ', put_delta(s, k, r, q, v, t))\n",
    "print('Put Theta = ', put_theta(s, k, r, q, v, t))\n",
    "print('Gamma = ', gamma(s, k, r, q, v, t))\n",
    "print('Vega = ', vega(s, k, r, q, v, t))"
   ]
  }
 ],
 "metadata": {
  "kernelspec": {
   "display_name": "Python 3 (ipykernel)",
   "language": "python",
   "name": "python3"
  },
  "language_info": {
   "codemirror_mode": {
    "name": "ipython",
    "version": 3
   },
   "file_extension": ".py",
   "mimetype": "text/x-python",
   "name": "python",
   "nbconvert_exporter": "python",
   "pygments_lexer": "ipython3",
   "version": "3.12.4"
  }
 },
 "nbformat": 4,
 "nbformat_minor": 5
}
