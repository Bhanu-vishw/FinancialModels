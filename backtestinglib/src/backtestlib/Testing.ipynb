{
 "cells": [
  {
   "cell_type": "code",
   "execution_count": 1,
   "metadata": {},
   "outputs": [
    {
     "name": "stdout",
     "output_type": "stream",
     "text": [
      "Value before: 100000.0\n",
      "Value after: 100450.0\n"
     ]
    }
   ],
   "source": [
    "from datetime import datetime\n",
    "\n",
    "import backtestlib as bt\n",
    "\n",
    "# (1) Set up constant return data provider with two tickers\n",
    "starting_prices = {\"ABCD\": 500, \"EFGH\": 1000}\n",
    "projected_returns = {\"ABCD\": 0.5, \"EFGH\": 0.2}\n",
    "provider = bt.ConstantReturnDataProvider(\n",
    "    s0_map=starting_prices, return_map=projected_returns\n",
    ")\n",
    "\n",
    "# (2) Instantiate backtest\n",
    "backtest = bt.Backtest(\n",
    "    symbols=starting_prices.keys(),\n",
    "    strategy=bt.BuyHoldStrategy(),\n",
    "    interval=bt.Interval.MONTH,\n",
    "    data_provider=provider,\n",
    ")\n",
    "\n",
    "# (3) Run backtest\n",
    "backtest.reset(cash=100000)\n",
    "print(f\"Value before: {backtest.value()}\")\n",
    "backtest.run(start=datetime(2022, 12, 1), end=datetime(2023, 12, 1))\n",
    "print(f\"Value after: {backtest.value()}\")"
   ]
  },
  {
   "cell_type": "code",
   "execution_count": 2,
   "metadata": {},
   "outputs": [
    {
     "name": "stdout",
     "output_type": "stream",
     "text": [
      "Value before: 100000.0\n",
      "Value after: 100222.12874491548\n"
     ]
    }
   ],
   "source": [
    "#Alternate Buy Sell\n",
    "backtest = bt.Backtest(\n",
    "    symbols=starting_prices.keys(),\n",
    "    strategy=bt.AlternateBuySell(),\n",
    "    interval=bt.Interval.MONTH,\n",
    "    data_provider=provider,\n",
    ")\n",
    "\n",
    "\n",
    "backtest.reset(cash=100000)\n",
    "print(f\"Value before: {backtest.value()}\")\n",
    "backtest.run(start=datetime(2022, 12, 1), end=datetime(2023, 12, 1))\n",
    "print(f\"Value after: {backtest.value()}\")"
   ]
  },
  {
   "cell_type": "code",
   "execution_count": 3,
   "metadata": {},
   "outputs": [
    {
     "name": "stdout",
     "output_type": "stream",
     "text": [
      "Value before: 100000.0\n",
      "Value after: 100258.59152078297\n"
     ]
    }
   ],
   "source": [
    "#Low Volume\n",
    "backtest = bt.Backtest(\n",
    "    symbols=starting_prices.keys(),\n",
    "    strategy=bt.LowVolStrategy(),\n",
    "    interval=bt.Interval.MONTH,\n",
    "    data_provider=provider,\n",
    ")\n",
    "\n",
    "\n",
    "backtest.reset(cash=100000)\n",
    "print(f\"Value before: {backtest.value()}\")\n",
    "backtest.run(start=datetime(2022, 12, 1), end=datetime(2023, 12, 1))\n",
    "print(f\"Value after: {backtest.value()}\")"
   ]
  },
  {
   "cell_type": "code",
   "execution_count": 4,
   "metadata": {},
   "outputs": [
    {
     "name": "stdout",
     "output_type": "stream",
     "text": [
      "Value before: 100000.0\n",
      "Value after: 99615.80991785327\n"
     ]
    }
   ],
   "source": [
    "#Momentum \n",
    "backtest = bt.Backtest(\n",
    "    symbols=starting_prices.keys(),\n",
    "    strategy=bt.Momentum(),\n",
    "    interval=bt.Interval.MONTH,\n",
    "    data_provider=provider,\n",
    ")\n",
    "\n",
    "# (3) Run backtest\n",
    "backtest.reset(cash=100000)\n",
    "print(f\"Value before: {backtest.value()}\")\n",
    "backtest.run(start=datetime(2022, 12, 1), end=datetime(2023, 12, 1))\n",
    "print(f\"Value after: {backtest.value()}\")"
   ]
  }
 ],
 "metadata": {
  "kernelspec": {
   "display_name": "fm5151",
   "language": "python",
   "name": "python3"
  },
  "language_info": {
   "codemirror_mode": {
    "name": "ipython",
    "version": 3
   },
   "file_extension": ".py",
   "mimetype": "text/x-python",
   "name": "python",
   "nbconvert_exporter": "python",
   "pygments_lexer": "ipython3",
   "version": "3.11.9"
  }
 },
 "nbformat": 4,
 "nbformat_minor": 2
}
