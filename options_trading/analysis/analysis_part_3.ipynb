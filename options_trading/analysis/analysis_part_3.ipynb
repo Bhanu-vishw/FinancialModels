{
 "cells": [
  {
   "cell_type": "markdown",
   "metadata": {},
   "source": [
    "## Part 3: Volatility arbitrage analysis"
   ]
  },
  {
   "cell_type": "code",
   "execution_count": 1289,
   "metadata": {},
   "outputs": [],
   "source": [
    "import time\n",
    "import numpy as np\n",
    "import pandas as pd\n",
    "import matplotlib.pyplot as plt\n",
    "from matplotlib import cm\n",
    "from pathlib import Path\n",
    "from final.random import StandardNormalRNG, GBMPathGenerator, Paths\n",
    "import final.blackscholes as bs\n",
    "import final.longstaffschwartz as lsm\n",
    "from final import volatility as vol\n",
    "from final import riskfreerate as rf\n",
    "import matplotlib.pyplot as plt\n",
    "from scipy.optimize import minimize, brentq\n",
    "from scipy import optimize\n",
    "from scipy.interpolate import interp1d"
   ]
  },
  {
   "cell_type": "markdown",
   "metadata": {},
   "source": [
    "### (a)\n",
    "\n",
    "To calculate the dividend yield, we will use the formula of \n",
    "\n",
    "dividend yield (q) = Total dividends paid / Average stock price\n",
    "\n",
    "Hence first we need to calculate the sum of dividends paid and divide it by average value of stock price"
   ]
  },
  {
   "cell_type": "code",
   "execution_count": 1290,
   "metadata": {},
   "outputs": [
    {
     "data": {
      "text/html": [
       "<div>\n",
       "<style scoped>\n",
       "    .dataframe tbody tr th:only-of-type {\n",
       "        vertical-align: middle;\n",
       "    }\n",
       "\n",
       "    .dataframe tbody tr th {\n",
       "        vertical-align: top;\n",
       "    }\n",
       "\n",
       "    .dataframe thead th {\n",
       "        text-align: right;\n",
       "    }\n",
       "</style>\n",
       "<table border=\"1\" class=\"dataframe\">\n",
       "  <thead>\n",
       "    <tr style=\"text-align: right;\">\n",
       "      <th></th>\n",
       "      <th>Date</th>\n",
       "      <th>Open</th>\n",
       "      <th>High</th>\n",
       "      <th>Low</th>\n",
       "      <th>Close</th>\n",
       "      <th>Volume</th>\n",
       "      <th>Dividends</th>\n",
       "      <th>Stock Splits</th>\n",
       "    </tr>\n",
       "  </thead>\n",
       "  <tbody>\n",
       "    <tr>\n",
       "      <th>0</th>\n",
       "      <td>2021-01-04</td>\n",
       "      <td>130.56</td>\n",
       "      <td>130.65</td>\n",
       "      <td>123.95</td>\n",
       "      <td>126.54</td>\n",
       "      <td>143301900</td>\n",
       "      <td>0.0</td>\n",
       "      <td>0.0</td>\n",
       "    </tr>\n",
       "    <tr>\n",
       "      <th>1</th>\n",
       "      <td>2021-01-05</td>\n",
       "      <td>126.04</td>\n",
       "      <td>128.82</td>\n",
       "      <td>125.59</td>\n",
       "      <td>128.11</td>\n",
       "      <td>97664900</td>\n",
       "      <td>0.0</td>\n",
       "      <td>0.0</td>\n",
       "    </tr>\n",
       "    <tr>\n",
       "      <th>2</th>\n",
       "      <td>2021-01-06</td>\n",
       "      <td>124.89</td>\n",
       "      <td>128.15</td>\n",
       "      <td>123.58</td>\n",
       "      <td>123.80</td>\n",
       "      <td>155088000</td>\n",
       "      <td>0.0</td>\n",
       "      <td>0.0</td>\n",
       "    </tr>\n",
       "    <tr>\n",
       "      <th>3</th>\n",
       "      <td>2021-01-07</td>\n",
       "      <td>125.52</td>\n",
       "      <td>128.72</td>\n",
       "      <td>125.03</td>\n",
       "      <td>128.02</td>\n",
       "      <td>109578200</td>\n",
       "      <td>0.0</td>\n",
       "      <td>0.0</td>\n",
       "    </tr>\n",
       "    <tr>\n",
       "      <th>4</th>\n",
       "      <td>2021-01-08</td>\n",
       "      <td>129.50</td>\n",
       "      <td>129.69</td>\n",
       "      <td>127.35</td>\n",
       "      <td>129.13</td>\n",
       "      <td>105158200</td>\n",
       "      <td>0.0</td>\n",
       "      <td>0.0</td>\n",
       "    </tr>\n",
       "  </tbody>\n",
       "</table>\n",
       "</div>"
      ],
      "text/plain": [
       "         Date    Open    High     Low   Close     Volume  Dividends  \\\n",
       "0  2021-01-04  130.56  130.65  123.95  126.54  143301900        0.0   \n",
       "1  2021-01-05  126.04  128.82  125.59  128.11   97664900        0.0   \n",
       "2  2021-01-06  124.89  128.15  123.58  123.80  155088000        0.0   \n",
       "3  2021-01-07  125.52  128.72  125.03  128.02  109578200        0.0   \n",
       "4  2021-01-08  129.50  129.69  127.35  129.13  105158200        0.0   \n",
       "\n",
       "   Stock Splits  \n",
       "0           0.0  \n",
       "1           0.0  \n",
       "2           0.0  \n",
       "3           0.0  \n",
       "4           0.0  "
      ]
     },
     "execution_count": 1290,
     "metadata": {},
     "output_type": "execute_result"
    }
   ],
   "source": [
    "# Base location for data \n",
    "base_dir = Path('C:/Users/bhanu/OneDrive/Desktop/MFM/Semester 1/Python fm5151/final_starter/starter/data')\n",
    "\n",
    "stock_data_path = base_dir /'stock.csv'\n",
    "\n",
    "stock_data = pd.read_csv(stock_data_path)\n",
    "\n",
    "stock_data.head()"
   ]
  },
  {
   "cell_type": "code",
   "execution_count": 1291,
   "metadata": {},
   "outputs": [
    {
     "name": "stdout",
     "output_type": "stream",
     "text": [
      "Continous dividends yield for AAPL stock as of 2022 : 0.5956%\n"
     ]
    }
   ],
   "source": [
    "stock_data['Date'] = pd.to_datetime(stock_data['Date'])\n",
    "\n",
    "# Filtering for data only in 2022 \n",
    "stock_filtered = stock_data[(stock_data['Date'] >= '2022-01-01') & (stock_data['Date'] <= '2022-12-31')]\n",
    "\n",
    "# Calculating total dividends and average stock price for 2022\n",
    "total_dividends = stock_filtered['Dividends'].sum()\n",
    "average_stock_price = stock_filtered['Close'].mean()\n",
    "\n",
    "# Dividends yield q\n",
    "q = total_dividends / average_stock_price\n",
    "\n",
    "print(f'Continous dividends yield for AAPL stock as of 2022 : {round(q, 6)*100}%')"
   ]
  },
  {
   "cell_type": "markdown",
   "metadata": {},
   "source": [
    "### (b)\n",
    "\n",
    "To calculate the risk free rate, we will use linear interpolation corresponding to the given maturity "
   ]
  },
  {
   "cell_type": "code",
   "execution_count": 1292,
   "metadata": {},
   "outputs": [
    {
     "data": {
      "text/html": [
       "<div>\n",
       "<style scoped>\n",
       "    .dataframe tbody tr th:only-of-type {\n",
       "        vertical-align: middle;\n",
       "    }\n",
       "\n",
       "    .dataframe tbody tr th {\n",
       "        vertical-align: top;\n",
       "    }\n",
       "\n",
       "    .dataframe thead th {\n",
       "        text-align: right;\n",
       "    }\n",
       "</style>\n",
       "<table border=\"1\" class=\"dataframe\">\n",
       "  <thead>\n",
       "    <tr style=\"text-align: right;\">\n",
       "      <th></th>\n",
       "      <th>Date</th>\n",
       "      <th>1 Mo</th>\n",
       "      <th>2 Mo</th>\n",
       "      <th>3 Mo</th>\n",
       "      <th>4 Mo</th>\n",
       "      <th>6 Mo</th>\n",
       "      <th>1 Yr</th>\n",
       "      <th>2 Yr</th>\n",
       "      <th>3 Yr</th>\n",
       "      <th>5 Yr</th>\n",
       "      <th>7 Yr</th>\n",
       "      <th>10 Yr</th>\n",
       "      <th>20 Yr</th>\n",
       "      <th>30 Yr</th>\n",
       "    </tr>\n",
       "  </thead>\n",
       "  <tbody>\n",
       "    <tr>\n",
       "      <th>0</th>\n",
       "      <td>12/29/2023</td>\n",
       "      <td>5.60</td>\n",
       "      <td>5.59</td>\n",
       "      <td>5.40</td>\n",
       "      <td>5.41</td>\n",
       "      <td>5.26</td>\n",
       "      <td>4.79</td>\n",
       "      <td>4.23</td>\n",
       "      <td>4.01</td>\n",
       "      <td>3.84</td>\n",
       "      <td>3.88</td>\n",
       "      <td>3.88</td>\n",
       "      <td>4.20</td>\n",
       "      <td>4.03</td>\n",
       "    </tr>\n",
       "    <tr>\n",
       "      <th>1</th>\n",
       "      <td>12/28/2023</td>\n",
       "      <td>5.57</td>\n",
       "      <td>5.55</td>\n",
       "      <td>5.45</td>\n",
       "      <td>5.42</td>\n",
       "      <td>5.28</td>\n",
       "      <td>4.82</td>\n",
       "      <td>4.26</td>\n",
       "      <td>4.02</td>\n",
       "      <td>3.83</td>\n",
       "      <td>3.84</td>\n",
       "      <td>3.84</td>\n",
       "      <td>4.14</td>\n",
       "      <td>3.98</td>\n",
       "    </tr>\n",
       "    <tr>\n",
       "      <th>2</th>\n",
       "      <td>12/27/2023</td>\n",
       "      <td>5.55</td>\n",
       "      <td>5.53</td>\n",
       "      <td>5.44</td>\n",
       "      <td>5.42</td>\n",
       "      <td>5.26</td>\n",
       "      <td>4.79</td>\n",
       "      <td>4.20</td>\n",
       "      <td>3.97</td>\n",
       "      <td>3.78</td>\n",
       "      <td>3.81</td>\n",
       "      <td>3.79</td>\n",
       "      <td>4.10</td>\n",
       "      <td>3.95</td>\n",
       "    </tr>\n",
       "    <tr>\n",
       "      <th>3</th>\n",
       "      <td>12/26/2023</td>\n",
       "      <td>5.53</td>\n",
       "      <td>5.52</td>\n",
       "      <td>5.45</td>\n",
       "      <td>5.44</td>\n",
       "      <td>5.28</td>\n",
       "      <td>4.83</td>\n",
       "      <td>4.26</td>\n",
       "      <td>4.05</td>\n",
       "      <td>3.89</td>\n",
       "      <td>3.91</td>\n",
       "      <td>3.89</td>\n",
       "      <td>4.20</td>\n",
       "      <td>4.04</td>\n",
       "    </tr>\n",
       "    <tr>\n",
       "      <th>4</th>\n",
       "      <td>12/22/2023</td>\n",
       "      <td>5.54</td>\n",
       "      <td>5.52</td>\n",
       "      <td>5.44</td>\n",
       "      <td>5.45</td>\n",
       "      <td>5.31</td>\n",
       "      <td>4.82</td>\n",
       "      <td>4.31</td>\n",
       "      <td>4.04</td>\n",
       "      <td>3.87</td>\n",
       "      <td>3.92</td>\n",
       "      <td>3.90</td>\n",
       "      <td>4.21</td>\n",
       "      <td>4.05</td>\n",
       "    </tr>\n",
       "  </tbody>\n",
       "</table>\n",
       "</div>"
      ],
      "text/plain": [
       "         Date  1 Mo  2 Mo  3 Mo  4 Mo  6 Mo  1 Yr  2 Yr  3 Yr  5 Yr  7 Yr  \\\n",
       "0  12/29/2023  5.60  5.59  5.40  5.41  5.26  4.79  4.23  4.01  3.84  3.88   \n",
       "1  12/28/2023  5.57  5.55  5.45  5.42  5.28  4.82  4.26  4.02  3.83  3.84   \n",
       "2  12/27/2023  5.55  5.53  5.44  5.42  5.26  4.79  4.20  3.97  3.78  3.81   \n",
       "3  12/26/2023  5.53  5.52  5.45  5.44  5.28  4.83  4.26  4.05  3.89  3.91   \n",
       "4  12/22/2023  5.54  5.52  5.44  5.45  5.31  4.82  4.31  4.04  3.87  3.92   \n",
       "\n",
       "   10 Yr  20 Yr  30 Yr  \n",
       "0   3.88   4.20   4.03  \n",
       "1   3.84   4.14   3.98  \n",
       "2   3.79   4.10   3.95  \n",
       "3   3.89   4.20   4.04  \n",
       "4   3.90   4.21   4.05  "
      ]
     },
     "execution_count": 1292,
     "metadata": {},
     "output_type": "execute_result"
    }
   ],
   "source": [
    "treasury_data_path = base_dir /'treasury.csv'\n",
    "\n",
    "treasury_data = pd.read_csv(treasury_data_path)\n",
    "\n",
    "treasury_data.head()"
   ]
  },
  {
   "cell_type": "code",
   "execution_count": 1293,
   "metadata": {},
   "outputs": [],
   "source": [
    "def risk_free_rate(treasury_data, maturity_in_years):\n",
    "\n",
    "    # Converting column headers to tenors in fraction years\n",
    "    tenors = { \"1 Mo\": 1 / 12, \"2 Mo\": 2 / 12, \"3 Mo\": 3 / 12, \"4 Mo\": 4 / 12, \"6 Mo\": 6 / 12, \n",
    "              \"1 Yr\": 1, \"2 Yr\": 2, \"3 Yr\": 3, \"5 Yr\": 5, \"7 Yr\": 7, \"10 Yr\": 10, \"20 Yr\": 20, \"30 Yr\": 30}\n",
    "\n",
    "    # Extracting the latest treasury data row\n",
    "    latest_rates = treasury_data.iloc[-1]\n",
    "    \n",
    "    # Preparing tenor and rate data for interpolation\n",
    "    tenors_years = []\n",
    "    rates = []\n",
    "\n",
    "    for col, years in tenors.items():\n",
    "        if col in latest_rates and not pd.isnull(latest_rates[col]):\n",
    "            tenors_years.append(years)\n",
    "            rates.append(latest_rates[col])\n",
    "\n",
    "    # linear interpolation\n",
    "    interpolation_func = interp1d(tenors_years, rates, kind='linear', fill_value='extrapolate')\n",
    "    return float(interpolation_func(maturity_in_years))"
   ]
  },
  {
   "cell_type": "markdown",
   "metadata": {},
   "source": [
    "Importing riskfreerate.py"
   ]
  },
  {
   "cell_type": "code",
   "execution_count": 1294,
   "metadata": {},
   "outputs": [
    {
     "name": "stdout",
     "output_type": "stream",
     "text": [
      "Risk-free rate for 2 years: 4.4%\n"
     ]
    }
   ],
   "source": [
    "from final import riskfreerate as rf\n",
    "\n",
    "print(f\"Risk-free rate for 2 years: {rf.risk_free_rate(treasury_data, maturity_in_years=2)}%\")"
   ]
  },
  {
   "cell_type": "markdown",
   "metadata": {},
   "source": [
    "## (c)\n",
    "\n",
    "### (i)"
   ]
  },
  {
   "cell_type": "code",
   "execution_count": 1295,
   "metadata": {},
   "outputs": [
    {
     "data": {
      "text/html": [
       "<div>\n",
       "<style scoped>\n",
       "    .dataframe tbody tr th:only-of-type {\n",
       "        vertical-align: middle;\n",
       "    }\n",
       "\n",
       "    .dataframe tbody tr th {\n",
       "        vertical-align: top;\n",
       "    }\n",
       "\n",
       "    .dataframe thead th {\n",
       "        text-align: right;\n",
       "    }\n",
       "</style>\n",
       "<table border=\"1\" class=\"dataframe\">\n",
       "  <thead>\n",
       "    <tr style=\"text-align: right;\">\n",
       "      <th></th>\n",
       "      <th>symbol</th>\n",
       "      <th>quote_date</th>\n",
       "      <th>expiry_date</th>\n",
       "      <th>days_to_expiry</th>\n",
       "      <th>strike_price</th>\n",
       "      <th>call_price</th>\n",
       "      <th>call_volume</th>\n",
       "      <th>put_price</th>\n",
       "      <th>put_volume</th>\n",
       "    </tr>\n",
       "  </thead>\n",
       "  <tbody>\n",
       "    <tr>\n",
       "      <th>0</th>\n",
       "      <td>AAPL</td>\n",
       "      <td>2023-01-03</td>\n",
       "      <td>2023-01-06</td>\n",
       "      <td>3.0</td>\n",
       "      <td>50.0</td>\n",
       "      <td>79.35</td>\n",
       "      <td>0.0</td>\n",
       "      <td>0.01</td>\n",
       "      <td>33.0</td>\n",
       "    </tr>\n",
       "    <tr>\n",
       "      <th>1</th>\n",
       "      <td>AAPL</td>\n",
       "      <td>2023-01-03</td>\n",
       "      <td>2023-01-06</td>\n",
       "      <td>3.0</td>\n",
       "      <td>60.0</td>\n",
       "      <td>68.60</td>\n",
       "      <td>0.0</td>\n",
       "      <td>0.01</td>\n",
       "      <td>1.0</td>\n",
       "    </tr>\n",
       "    <tr>\n",
       "      <th>2</th>\n",
       "      <td>AAPL</td>\n",
       "      <td>2023-01-03</td>\n",
       "      <td>2023-01-06</td>\n",
       "      <td>3.0</td>\n",
       "      <td>90.0</td>\n",
       "      <td>38.90</td>\n",
       "      <td>0.0</td>\n",
       "      <td>0.01</td>\n",
       "      <td>1.0</td>\n",
       "    </tr>\n",
       "    <tr>\n",
       "      <th>3</th>\n",
       "      <td>AAPL</td>\n",
       "      <td>2023-01-03</td>\n",
       "      <td>2023-01-06</td>\n",
       "      <td>3.0</td>\n",
       "      <td>95.0</td>\n",
       "      <td>39.85</td>\n",
       "      <td>0.0</td>\n",
       "      <td>0.01</td>\n",
       "      <td>1565.0</td>\n",
       "    </tr>\n",
       "    <tr>\n",
       "      <th>4</th>\n",
       "      <td>AAPL</td>\n",
       "      <td>2023-01-03</td>\n",
       "      <td>2023-01-06</td>\n",
       "      <td>3.0</td>\n",
       "      <td>100.0</td>\n",
       "      <td>24.55</td>\n",
       "      <td>23.0</td>\n",
       "      <td>0.01</td>\n",
       "      <td>116.0</td>\n",
       "    </tr>\n",
       "  </tbody>\n",
       "</table>\n",
       "</div>"
      ],
      "text/plain": [
       "  symbol  quote_date expiry_date  days_to_expiry  strike_price  call_price  \\\n",
       "0   AAPL  2023-01-03  2023-01-06             3.0          50.0       79.35   \n",
       "1   AAPL  2023-01-03  2023-01-06             3.0          60.0       68.60   \n",
       "2   AAPL  2023-01-03  2023-01-06             3.0          90.0       38.90   \n",
       "3   AAPL  2023-01-03  2023-01-06             3.0          95.0       39.85   \n",
       "4   AAPL  2023-01-03  2023-01-06             3.0         100.0       24.55   \n",
       "\n",
       "   call_volume  put_price  put_volume  \n",
       "0          0.0       0.01        33.0  \n",
       "1          0.0       0.01         1.0  \n",
       "2          0.0       0.01         1.0  \n",
       "3          0.0       0.01      1565.0  \n",
       "4         23.0       0.01       116.0  "
      ]
     },
     "execution_count": 1295,
     "metadata": {},
     "output_type": "execute_result"
    }
   ],
   "source": [
    "options_data_path = base_dir /'options.csv'\n",
    "\n",
    "options_data = pd.read_csv(options_data_path)\n",
    "\n",
    "options_data.head()"
   ]
  },
  {
   "cell_type": "markdown",
   "metadata": {},
   "source": [
    "Merging AAPL stock price to options dataframe"
   ]
  },
  {
   "cell_type": "code",
   "execution_count": 1296,
   "metadata": {},
   "outputs": [
    {
     "data": {
      "text/html": [
       "<div>\n",
       "<style scoped>\n",
       "    .dataframe tbody tr th:only-of-type {\n",
       "        vertical-align: middle;\n",
       "    }\n",
       "\n",
       "    .dataframe tbody tr th {\n",
       "        vertical-align: top;\n",
       "    }\n",
       "\n",
       "    .dataframe thead th {\n",
       "        text-align: right;\n",
       "    }\n",
       "</style>\n",
       "<table border=\"1\" class=\"dataframe\">\n",
       "  <thead>\n",
       "    <tr style=\"text-align: right;\">\n",
       "      <th></th>\n",
       "      <th>symbol</th>\n",
       "      <th>quote_date</th>\n",
       "      <th>expiry_date</th>\n",
       "      <th>days_to_expiry</th>\n",
       "      <th>strike_price</th>\n",
       "      <th>call_price</th>\n",
       "      <th>call_volume</th>\n",
       "      <th>put_price</th>\n",
       "      <th>put_volume</th>\n",
       "      <th>underlying_price</th>\n",
       "    </tr>\n",
       "  </thead>\n",
       "  <tbody>\n",
       "    <tr>\n",
       "      <th>0</th>\n",
       "      <td>AAPL</td>\n",
       "      <td>2023-01-03</td>\n",
       "      <td>2023-01-06</td>\n",
       "      <td>3.0</td>\n",
       "      <td>50.0</td>\n",
       "      <td>79.35</td>\n",
       "      <td>0.0</td>\n",
       "      <td>0.01</td>\n",
       "      <td>33.0</td>\n",
       "      <td>123.77</td>\n",
       "    </tr>\n",
       "    <tr>\n",
       "      <th>1</th>\n",
       "      <td>AAPL</td>\n",
       "      <td>2023-01-03</td>\n",
       "      <td>2023-01-06</td>\n",
       "      <td>3.0</td>\n",
       "      <td>60.0</td>\n",
       "      <td>68.60</td>\n",
       "      <td>0.0</td>\n",
       "      <td>0.01</td>\n",
       "      <td>1.0</td>\n",
       "      <td>123.77</td>\n",
       "    </tr>\n",
       "    <tr>\n",
       "      <th>2</th>\n",
       "      <td>AAPL</td>\n",
       "      <td>2023-01-03</td>\n",
       "      <td>2023-01-06</td>\n",
       "      <td>3.0</td>\n",
       "      <td>90.0</td>\n",
       "      <td>38.90</td>\n",
       "      <td>0.0</td>\n",
       "      <td>0.01</td>\n",
       "      <td>1.0</td>\n",
       "      <td>123.77</td>\n",
       "    </tr>\n",
       "    <tr>\n",
       "      <th>3</th>\n",
       "      <td>AAPL</td>\n",
       "      <td>2023-01-03</td>\n",
       "      <td>2023-01-06</td>\n",
       "      <td>3.0</td>\n",
       "      <td>95.0</td>\n",
       "      <td>39.85</td>\n",
       "      <td>0.0</td>\n",
       "      <td>0.01</td>\n",
       "      <td>1565.0</td>\n",
       "      <td>123.77</td>\n",
       "    </tr>\n",
       "    <tr>\n",
       "      <th>4</th>\n",
       "      <td>AAPL</td>\n",
       "      <td>2023-01-03</td>\n",
       "      <td>2023-01-06</td>\n",
       "      <td>3.0</td>\n",
       "      <td>100.0</td>\n",
       "      <td>24.55</td>\n",
       "      <td>23.0</td>\n",
       "      <td>0.01</td>\n",
       "      <td>116.0</td>\n",
       "      <td>123.77</td>\n",
       "    </tr>\n",
       "  </tbody>\n",
       "</table>\n",
       "</div>"
      ],
      "text/plain": [
       "  symbol quote_date expiry_date  days_to_expiry  strike_price  call_price  \\\n",
       "0   AAPL 2023-01-03  2023-01-06             3.0          50.0       79.35   \n",
       "1   AAPL 2023-01-03  2023-01-06             3.0          60.0       68.60   \n",
       "2   AAPL 2023-01-03  2023-01-06             3.0          90.0       38.90   \n",
       "3   AAPL 2023-01-03  2023-01-06             3.0          95.0       39.85   \n",
       "4   AAPL 2023-01-03  2023-01-06             3.0         100.0       24.55   \n",
       "\n",
       "   call_volume  put_price  put_volume  underlying_price  \n",
       "0          0.0       0.01        33.0            123.77  \n",
       "1          0.0       0.01         1.0            123.77  \n",
       "2          0.0       0.01         1.0            123.77  \n",
       "3          0.0       0.01      1565.0            123.77  \n",
       "4         23.0       0.01       116.0            123.77  "
      ]
     },
     "execution_count": 1296,
     "metadata": {},
     "output_type": "execute_result"
    }
   ],
   "source": [
    "# Merging underlying price data to options data\n",
    "\n",
    "options_data['quote_date'] = pd.to_datetime(options_data['quote_date'])\n",
    "stock_data['Date'] = pd.to_datetime(stock_data['Date'])\n",
    "\n",
    "# Merge the stock data with options data based on the 'quote_date'\n",
    "options_data = options_data.merge( stock_data[['Date', 'Close']],\n",
    "    left_on='quote_date',\n",
    "    right_on='Date',\n",
    "    how='left',\n",
    ")\n",
    "\n",
    "# Rename the 'Close' column to 'underlying_price' for clarity\n",
    "options_data.rename(columns={'Close': 'underlying_price'}, inplace=True)\n",
    "\n",
    "# Drop the redundant 'Date' column after merge\n",
    "options_data.drop(columns=['Date'], inplace=True)\n",
    "\n",
    "# Display the first few rows of the updated options data to confirm the merge\n",
    "options_data.head()"
   ]
  },
  {
   "cell_type": "markdown",
   "metadata": {},
   "source": [
    "Analysis to determine reasonal number of scenarios to be used"
   ]
  },
  {
   "cell_type": "code",
   "execution_count": 1297,
   "metadata": {},
   "outputs": [
    {
     "data": {
      "image/png": "[encoded data removed]",
      "text/plain": [
       "<Figure size 1200x600 with 2 Axes>"
      ]
     },
     "metadata": {},
     "output_type": "display_data"
    }
   ],
   "source": [
    "# testing for just first row (sngle option value)\n",
    "test_option = options_data.iloc[0] \n",
    "T = test_option['days_to_expiry'] / 365  # Time to expiry in years\n",
    "K = test_option['strike_price']\n",
    "p = test_option['underlying_price']\n",
    "#print (p)\n",
    "rf_rate = rf.risk_free_rate(treasury_data, maturity_in_years=T)\n",
    "\n",
    "# Dividend yield\n",
    "q = stock_data['Dividends'].sum() / stock_data['Close'].mean()\n",
    "\n",
    "# Path generator parameters\n",
    "n_steps = 50\n",
    "rng = StandardNormalRNG(seed=50)\n",
    "\n",
    "# Number of paths to test\n",
    "path_counts = [100, 500, 1000, 2000, 5000, 10000]\n",
    "call_prices = []\n",
    "times = []\n",
    "\n",
    "for n_paths in path_counts:\n",
    "    path_gen = GBMPathGenerator(num_paths=n_paths, num_steps=n_steps, s0=p,drift=rf_rate - q, diffusion=0.3, to_time=T, rng=rng)\n",
    "    \n",
    "    # Time the calculation\n",
    "    start_time = time.time()\n",
    "    price = lsm.lsm_price(K, rf_rate, is_call=True, path_generator=path_gen, polynomial_degree=2)\n",
    "    end_time = time.time()\n",
    "\n",
    "    call_prices.append(price)\n",
    "    times.append(end_time - start_time)\n",
    "\n",
    "# Plot the results\n",
    "plt.figure(figsize=(12, 6))\n",
    "\n",
    "# Price convergence plot\n",
    "plt.subplot(1, 2, 1)\n",
    "plt.plot(path_counts, call_prices, marker='o')\n",
    "plt.xlabel(\"Number of Paths\")\n",
    "plt.ylabel(\"Option Price\")\n",
    "plt.title(\"Convergence of Option Price\")\n",
    "plt.grid()\n",
    "\n",
    "# Computation time plot\n",
    "plt.subplot(1, 2, 2)\n",
    "plt.plot(path_counts, times, marker='o', color='red')\n",
    "plt.xlabel(\"Number of Paths\")\n",
    "plt.ylabel(\"Computation Time\")\n",
    "plt.title(\"Computation Time vs. Paths\")\n",
    "plt.grid()\n",
    "\n",
    "plt.tight_layout()\n",
    "plt.show()"
   ]
  },
  {
   "cell_type": "markdown",
   "metadata": {},
   "source": [
    "Path Analysis to determine a reasonable number of paths for Monte Carlo simulations in LSM pricing.\n",
    "\n",
    "Method:\n",
    "- Tested different path counts (100, 500, 1000, 2000, 5000, 10000) on an example option.\n",
    "- Measured option price stability and computation time.\n",
    "\n",
    "Results:\n",
    "- Option price stabilizes at around 2000 paths.\n",
    "- Beyond 2000 paths, price differences are <0.5%.\n",
    "- Computation time increases linearly with path count.\n",
    "\n",
    "Hence using num_paths = 2000 for our analysis"
   ]
  },
  {
   "cell_type": "markdown",
   "metadata": {},
   "source": []
  },
  {
   "cell_type": "markdown",
   "metadata": {},
   "source": [
    "Implied Volatitlity Calculation"
   ]
  },
  {
   "cell_type": "markdown",
   "metadata": {},
   "source": [
    "Note: I have used antithetic variance reduction technique directly into the generate() function of the class GBMPathGenerator. This technique reduces variance by generating negatively correlated pair of random samples which negates or cancels the overall variance of the simulations"
   ]
  },
  {
   "cell_type": "code",
   "execution_count": 1298,
   "metadata": {},
   "outputs": [],
   "source": [
    "# Wrapper function for calculating implied volatility using lsm_price\n",
    "def implied_vol_lsm_price(row, is_call, path_generator, rf_rate, strike_price):\n",
    "    market_price = row['call_price'] if is_call else row['put_price']\n",
    "    S0 = row['underlying_price']\n",
    "    \n",
    "    def price_diff(sigma):\n",
    "\n",
    "        # Create new path generator for each sigma to ensure clean state\n",
    "        rng = StandardNormalRNG(seed=50)\n",
    "        \n",
    "        new_path = GBMPathGenerator(num_paths=path_generator.num_paths, num_steps=path_generator.num_steps, s0=S0, drift=rf_rate - q,diffusion=sigma,to_time=path_generator.to_time, rng=rng)\n",
    "        \n",
    "        # Calculate option price using LSM\n",
    "        price = lsm.lsm_price(strike_price, rf_rate, is_call, new_path, polynomial_degree=2, debug=False)\n",
    "                \n",
    "        return price - market_price\n",
    "\n",
    "    # Initial broad search\n",
    "    test_sigmas = np.linspace(0.001, 5.0, 20)\n",
    "    best_sigma = None\n",
    "    min_abs_diff = float('inf')\n",
    "    \n",
    "    for sigma in test_sigmas:\n",
    "        diff = price_diff(sigma)\n",
    "        if abs(diff) < min_abs_diff:\n",
    "            min_abs_diff = abs(diff)\n",
    "            best_sigma = sigma\n",
    "\n",
    "    if best_sigma is None:\n",
    "        return np.nan\n",
    "\n",
    "    try:\n",
    "        sigma_min = max(0.001, best_sigma - 0.2)\n",
    "        sigma_max = min(5.0, best_sigma + 0.2)\n",
    "        return brentq(price_diff, sigma_min, sigma_max, xtol=1e-4, maxiter=100)\n",
    "    except ValueError:\n",
    "        return np.nan\n",
    "\n",
    "def calculate_all_ivs(data, treasury_data, q):\n",
    "    data = data.copy()\n",
    "    data['call_iv'] = np.nan\n",
    "    data['put_iv'] = np.nan\n",
    "    \n",
    "    n_paths = 2000 # from analysis done above\n",
    "    n_steps = 50\n",
    "    rng = StandardNormalRNG(seed=50)\n",
    "\n",
    "    data.loc[:, 'risk_free_rate'] = np.nan\n",
    "\n",
    "    # Loop through options and calculate implied volatilities\n",
    "    for index, row in data.iterrows():\n",
    "        T = row['days_to_expiry'] / 365\n",
    "        K = row['strike_price']\n",
    "        S0 = row['underlying_price']\n",
    "        rf_rate = rf.risk_free_rate(treasury_data, maturity_in_years=T)\n",
    "        data.at[index, 'risk_free_rate'] = round(rf_rate, 2)\n",
    "\n",
    "        # passing sigma as 0.2 for generating paths initially \n",
    "        path_gen = GBMPathGenerator(num_paths=n_paths, num_steps=n_steps, s0=S0, drift=rf_rate - q, diffusion=0.2, to_time=T, rng=rng)\n",
    "\n",
    "        # Call IV\n",
    "        if row['call_price'] > 0:\n",
    "            data.at[index, 'call_iv'] = implied_vol_lsm_price(row, True, path_gen, rf_rate, K)\n",
    "        # Put IV\n",
    "        if row['put_price'] > 0:\n",
    "            data.at[index, 'put_iv'] = implied_vol_lsm_price(row, False, path_gen, rf_rate, K)\n",
    "\n",
    "    return data"
   ]
  },
  {
   "cell_type": "markdown",
   "metadata": {},
   "source": [
    "### (ii)"
   ]
  },
  {
   "cell_type": "markdown",
   "metadata": {},
   "source": [
    "Realized volatility calculation"
   ]
  },
  {
   "cell_type": "code",
   "execution_count": 1299,
   "metadata": {},
   "outputs": [],
   "source": [
    "stock_data['Date'] = pd.to_datetime(stock_data['Date'])\n",
    "\n",
    "# Calculating daily returns\n",
    "stock_data['returns'] = stock_data['Close'].pct_change().dropna()\n",
    "\n",
    "stock_data['returns'] = stock_data['returns'] * 100\n",
    "### Mutiplying returns by 100 so as to get percentage change of returns and get higer values for realized volatilities and to apply the strategies based on Volatility below\n",
    "\n",
    "# EWMA model fitting\n",
    "lambda_param = vol.ewma_fit(stock_data['returns'])\n",
    "\n",
    "returns_cleaned = stock_data['returns'].dropna().reset_index(drop=True) \n",
    "\n",
    "# Calculating volatilities using the cleaned returns\n",
    "variances = vol.ewma_var_estimates(lambda_param, returns_cleaned)\n",
    "volatilities = np.sqrt(variances)\n",
    "\n",
    "volatilities_series = pd.Series(volatilities, index=stock_data.index[1:]) \n",
    "\n",
    "stock_data['realized_vols'] = volatilities_series\n",
    "\n",
    "# Merging\n",
    "options_data['quote_date'] = pd.to_datetime(options_data['quote_date'])\n",
    "\n",
    "# Merge the stock data with options data based on the 'quote_date'\n",
    "options_data = options_data.merge(stock_data[['Date', 'realized_vols']],\n",
    "    left_on='quote_date',\n",
    "    right_on='Date',\n",
    "    how='left',\n",
    ")\n",
    "\n",
    "options_data.rename(columns={'Close': 'realized_vols'}, inplace=True)\n",
    "\n",
    "# Drop the redundant 'Date' column after merge\n",
    "options_data.drop(columns=['Date'], inplace=True)"
   ]
  },
  {
   "cell_type": "markdown",
   "metadata": {},
   "source": [
    "Generating the csv with all IVs"
   ]
  },
  {
   "cell_type": "code",
   "execution_count": 1300,
   "metadata": {},
   "outputs": [],
   "source": [
    "# Usage\n",
    "q = stock_data['Dividends'].sum() / stock_data['Close'].mean()\n",
    "\n",
    "# filtering for volumes > 5000\n",
    "filtered_options_data = options_data[(options_data['call_volume'] > 5000) | (options_data['put_volume'] > 5000)]\n",
    "\n",
    "result_data = calculate_all_ivs(filtered_options_data, treasury_data, q)\n",
    "\n",
    "result_data.to_csv('options_with_vols.csv', index = False)"
   ]
  },
  {
   "cell_type": "code",
   "execution_count": 1366,
   "metadata": {},
   "outputs": [
    {
     "data": {
      "text/plain": [
       "(3138, 14)"
      ]
     },
     "execution_count": 1366,
     "metadata": {},
     "output_type": "execute_result"
    }
   ],
   "source": [
    "result_data.shape"
   ]
  },
  {
   "cell_type": "markdown",
   "metadata": {},
   "source": [
    "## (d)"
   ]
  },
  {
   "cell_type": "markdown",
   "metadata": {},
   "source": [
    "Based on the search for strategies to be implied on the basis of relationship between realized volatility (RV) and implied volatility (IV):\n",
    "\n",
    "Case 1: \\\n",
    "Realized Volatility > Implied Volatility for Call Options \\\n",
    "Opportunity: The market underestimates future volatility. \\\n",
    "Strategy: Buy call options to capitalize on the underpriced volatility.\n",
    "\n",
    "Case 2: \\\n",
    "Realized Volatility > Implied Volatility for Put Options \\\n",
    "Opportunity: The market underestimates future volatility. \\\n",
    "Strategy: Buy put options to benefit from the underpriced volatility.\n",
    "\n",
    "Case 3: \\\n",
    "Realized Volatility < Implied Volatility for Call Options \\\n",
    "Opportunity: The market overestimates future volatility. \\\n",
    "Strategy: Sell call options to earn premiums from overpriced volatility.\n",
    "\n",
    "Case 4: \\\n",
    "Realized Volatility < Implied Volatility for Put Options \\\n",
    "Opportunity: The market overestimates future volatility. \\\n",
    "Strategy: Sell put options to earn premiums from overpriced volatility.\n"
   ]
  },
  {
   "cell_type": "code",
   "execution_count": 1302,
   "metadata": {},
   "outputs": [],
   "source": [
    "pnl_data = result_data\n",
    "\n",
    "pnl_data['quote_date'] = pd.to_datetime(pnl_data['quote_date'])\n",
    "pnl_data['expiry_date'] = pd.to_datetime(pnl_data['expiry_date'])"
   ]
  },
  {
   "cell_type": "markdown",
   "metadata": {},
   "source": [
    "Function to calculate the Strategy wise PnL of portfolio"
   ]
  },
  {
   "cell_type": "code",
   "execution_count": 1354,
   "metadata": {},
   "outputs": [],
   "source": [
    "def calculate_strategy_wise_pnl(expiring_options, portfolios):\n",
    "    strategy_pnl = {\n",
    "        'call_buy': 0,\n",
    "        'put_buy': 0,\n",
    "        'call_sell': 0,\n",
    "        'put_sell': 0\n",
    "    }\n",
    "\n",
    "    if not any(portfolios.values()):  # If portfolios are empty\n",
    "        return strategy_pnl\n",
    "\n",
    "    for _, opt in expiring_options.iterrows():\n",
    "        opt_dict = opt.to_dict()\n",
    "        \n",
    "        # Call Buy\n",
    "        if any((opt_dict['strike_price'] == portfolio_opt['strike_price'] and opt_dict['expiry_date'] == portfolio_opt['expiry_date']) for portfolio_opt in portfolios['call_buy']):\n",
    "            strategy_pnl['call_buy'] += max(opt_dict['underlying_price'] - opt_dict['strike_price'], 0) - opt['call_price']\n",
    "        \n",
    "        # Put Buy\n",
    "        if any((opt_dict['strike_price'] == portfolio_opt['strike_price'] and opt_dict['expiry_date'] == portfolio_opt['expiry_date']) for portfolio_opt in portfolios['put_buy']):\n",
    "            strategy_pnl['put_buy'] += max(opt_dict['strike_price'] - opt_dict['underlying_price'], 0) - opt['put_price']\n",
    "        \n",
    "        # Call Sell\n",
    "        if any((opt_dict['strike_price'] == portfolio_opt['strike_price'] and opt_dict['expiry_date'] == portfolio_opt['expiry_date']) for portfolio_opt in portfolios['call_sell']):\n",
    "            strategy_pnl['call_sell'] -= max(opt_dict['underlying_price'] - opt_dict['strike_price'], 0) - opt['call_price']\n",
    "        \n",
    "        # Put Sell\n",
    "        if any((opt_dict['strike_price'] == portfolio_opt['strike_price'] and opt_dict['expiry_date'] == portfolio_opt['expiry_date']) for portfolio_opt in portfolios['put_sell']):\n",
    "            strategy_pnl['put_sell'] -= max(opt_dict['strike_price'] - opt_dict['underlying_price'], 0) - opt['put_price']\n",
    "\n",
    "    return strategy_pnl\n"
   ]
  },
  {
   "cell_type": "markdown",
   "metadata": {},
   "source": [
    "Creating portfolio and implementing the strategy"
   ]
  },
  {
   "cell_type": "code",
   "execution_count": 1363,
   "metadata": {},
   "outputs": [
    {
     "data": {
      "text/plain": [
       "Index(['call_buy', 'put_buy', 'call_sell', 'put_sell', 'date'], dtype='object')"
      ]
     },
     "execution_count": 1363,
     "metadata": {},
     "output_type": "execute_result"
    }
   ],
   "source": [
    "# Track P&L\n",
    "strategy_pnl = []\n",
    "\n",
    "portfolios = {\n",
    "    'call_buy': [],\n",
    "    'put_buy': [],\n",
    "    'call_sell': [],\n",
    "    'put_sell': []\n",
    "}\n",
    "\n",
    "\n",
    "# Iterating through dates in 2023\n",
    "dates = pnl_data['quote_date'].sort_values().unique()\n",
    "start_date = pd.Timestamp('2023-01-01')\n",
    "for date in dates:\n",
    "    if date < start_date:\n",
    "        continue\n",
    "    \n",
    "    # Filtering options for the current date\n",
    "    daily_data = pnl_data[pnl_data['quote_date'] == date]\n",
    "    \n",
    "    # Implementing strategies based on RV and IV comparisons\n",
    "    for _, row in daily_data.iterrows():\n",
    "        if row['realized_vols'] > row['call_iv']:\n",
    "            portfolios['call_buy'].append(row)\n",
    "        elif row['realized_vols'] > row['put_iv']:\n",
    "            portfolios['put_buy'].append(row)\n",
    "        elif row['realized_vols'] < row['call_iv']:\n",
    "            portfolios['call_sell'].append(row)\n",
    "        elif row['realized_vols'] < row['put_iv']:\n",
    "            portfolios['put_sell'].append(row)\n",
    "\n",
    "    # Track P&L for options expiring on this date\n",
    "    expiring_options = daily_data[daily_data['expiry_date'] == date]\n",
    "\n",
    "    daily_strategy_pnl = calculate_strategy_wise_pnl(expiring_options, portfolios)\n",
    "    daily_strategy_pnl['date'] = date\n",
    "    strategy_pnl.append(daily_strategy_pnl)\n",
    "    \n",
    "    # Remove expired options from portfolios\n",
    "    for key in portfolios:\n",
    "        portfolios[key] = [opt for opt in portfolios[key] if opt['expiry_date'] > date]\n",
    "\n",
    "strategy_pnl_df = pd.DataFrame(strategy_pnl)\n",
    "\n",
    "# Calculate total PnL for each strategy\n",
    "total_strategy_pnl = {\n",
    "    'call_buy': strategy_pnl_df['call_buy'].sum(),\n",
    "    'put_buy': strategy_pnl_df['put_buy'].sum(),\n",
    "    'call_sell': strategy_pnl_df['call_sell'].sum(),\n",
    "    'put_sell': strategy_pnl_df['put_sell'].sum()\n",
    "}\n",
    "\n",
    "# Calculate overall total PnL\n",
    "total_pnl = sum(total_strategy_pnl.values())\n"
   ]
  },
  {
   "cell_type": "markdown",
   "metadata": {},
   "source": [
    "Answer to Qualitative questions:"
   ]
  },
  {
   "cell_type": "markdown",
   "metadata": {},
   "source": [
    "1. Total PnL - for filtered data with volumes > 5000"
   ]
  },
  {
   "cell_type": "code",
   "execution_count": 1356,
   "metadata": {},
   "outputs": [
    {
     "name": "stdout",
     "output_type": "stream",
     "text": [
      "Total P&L: 7.979999999999859\n"
     ]
    }
   ],
   "source": [
    "print(f\"Total P&L: {total_pnl}\")"
   ]
  },
  {
   "cell_type": "markdown",
   "metadata": {},
   "source": [
    "2. Profitability ratio - as we can see the number of unprofitable days is significantly higer than number of proftable days"
   ]
  },
  {
   "cell_type": "code",
   "execution_count": 1357,
   "metadata": {},
   "outputs": [
    {
     "name": "stdout",
     "output_type": "stream",
     "text": [
      "Profitable days: 29\n",
      "Unprofitable days: 221\n",
      "Total days: 250\n",
      "Proportion of profitable days: 11.60%\n"
     ]
    }
   ],
   "source": [
    "# Calculate daily total PnL\n",
    "strategy_pnl_df['daily_total_pnl'] = strategy_pnl_df['call_buy'] + strategy_pnl_df['put_buy'] + strategy_pnl_df['call_sell'] + strategy_pnl_df['put_sell']\n",
    "\n",
    "# Calculate profitable and unprofitable days\n",
    "profitable_days = (strategy_pnl_df['daily_total_pnl'] > 0).sum()\n",
    "unprofitable_days = (strategy_pnl_df['daily_total_pnl'] <= 0).sum()\n",
    "total_days = len(strategy_pnl_df)\n",
    "\n",
    "# Print results\n",
    "print(f\"Profitable days: {profitable_days}\")\n",
    "print(f\"Unprofitable days: {unprofitable_days}\")\n",
    "print(f\"Total days: {total_days}\")\n",
    "print(f\"Proportion of profitable days: {profitable_days / total_days:.2%}\")"
   ]
  },
  {
   "cell_type": "markdown",
   "metadata": {},
   "source": [
    "3. Strategies PnL"
   ]
  },
  {
   "cell_type": "code",
   "execution_count": 1358,
   "metadata": {},
   "outputs": [
    {
     "name": "stdout",
     "output_type": "stream",
     "text": [
      "call_buy: -69.77999999999999\n",
      "put_buy: 81.97999999999982\n",
      "call_sell: 0\n",
      "put_sell: -4.219999999999973\n"
     ]
    }
   ],
   "source": [
    "for strategy, pnl in total_strategy_pnl.items():\n",
    "    print(f\"{strategy}: {pnl}\")"
   ]
  },
  {
   "cell_type": "markdown",
   "metadata": {},
   "source": [
    "4. Moneyness - As we can see the initial moneyness of the options impacted the toal PnL of the startegy. It influences an option's intrinsic value and potential returns. In-the-money (ITM) options have immediate value but are more expensive, while out-of-the-money (OTM) options are cheaper but riskier. "
   ]
  },
  {
   "cell_type": "markdown",
   "metadata": {},
   "source": [
    "5. Results were partially in line with expectations, possibly due to the filtering logic as we see the overall PnL is less but still positive"
   ]
  },
  {
   "cell_type": "markdown",
   "metadata": {},
   "source": [
    "6. The model doesn't check the market condition as in market movement whether it is bull, bear or none we only know whether it is volatile or not but not the direction of market movement. "
   ]
  },
  {
   "cell_type": "markdown",
   "metadata": {},
   "source": []
  }
 ],
 "metadata": {
  "kernelspec": {
   "display_name": "final",
   "language": "python",
   "name": "python3"
  },
  "language_info": {
   "codemirror_mode": {
    "name": "ipython",
    "version": 3
   },
   "file_extension": ".py",
   "mimetype": "text/x-python",
   "name": "python",
   "nbconvert_exporter": "python",
   "pygments_lexer": "ipython3",
   "version": "3.11.11"
  }
 },
 "nbformat": 4,
 "nbformat_minor": 2
}
