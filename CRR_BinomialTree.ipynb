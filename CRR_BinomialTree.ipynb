{
 "cells": [
  {
   "cell_type": "code",
   "execution_count": 12,
   "id": "1c47b3df-2a36-467f-acfb-db348175672b",
   "metadata": {},
   "outputs": [],
   "source": [
    "import numpy as np\n",
    "from math import exp, sqrt"
   ]
  },
  {
   "cell_type": "code",
   "execution_count": 13,
   "id": "8782901f-f493-477c-9b95-7c17d2342621",
   "metadata": {},
   "outputs": [],
   "source": [
    "\"\"\" \n",
    "Function to calculate option price using the CRR binomial tree model.\n",
    "\n",
    "Inputs:\n",
    "S: Initial stock price\n",
    "K: Strike price\n",
    "T: Time to maturity (years)\n",
    "r: Risk-free rate\n",
    "v: Volatility\n",
    "N: Number of steps in the binomial tree\n",
    "option_type1: 'european' or 'american'\n",
    "option_type2: 'call' or 'put'\n",
    "\n",
    "\"\"\"\n",
    "\n",
    "def binomial_tree_crr(S, K, T, r, v, N, option_type1=\"european\", option_type2=\"call\"):\n",
    "\n",
    "    #Calculating dt (small time intervals)\n",
    "    dt = T / N \n",
    "    \n",
    "    #Calculating probabilities\n",
    "    u = exp(v * sqrt(dt))\n",
    "    d = 1 / u\n",
    "    p = (exp(r * dt) - d) / (u - d)\n",
    "\n",
    "    #Dictionary to store values of each node\n",
    "    val = {}\n",
    "\n",
    "    #Function to calculate the price (recurrsion)\n",
    "    def compute_price(i, j):\n",
    "        \n",
    "        if (i, j) in val:\n",
    "            return val[(i, j)]\n",
    "\n",
    "        #Terminal node\n",
    "        if i == N:\n",
    "            stock_price = S * (u ** j) * (d ** (N - j))\n",
    "            if option_type2 == \"call\":\n",
    "                option_value = max(stock_price - K, 0)\n",
    "            else:\n",
    "                option_value = max(K - stock_price, 0)\n",
    "        else:\n",
    "            up_value = compute_price(i + 1, j + 1)\n",
    "            down_value = compute_price(i + 1, j)\n",
    "            discounted_value = exp(-r * dt) * (p * up_value + (1 - p) * down_value) #dicounting back\n",
    "            stock_price = S * (u ** j) * (d ** (i - j))\n",
    "            \n",
    "            if option_type1 == \"american\":\n",
    "                if option_type2 == \"call\":\n",
    "                    intrinsic_value = max(stock_price - K, 0)\n",
    "                else:\n",
    "                    intrinsic_value = max(K - stock_price, 0)\n",
    "                \n",
    "                option_value = max(discounted_value, intrinsic_value)\n",
    "            else:\n",
    "                option_value = discounted_value\n",
    "                \n",
    "        val[(i, j)] = option_value\n",
    "        return option_value\n",
    "    \n",
    "    option_price = compute_price(0, 0)\n",
    "    \n",
    "    #Greeks calculations (delta, gamma, theta)\n",
    "    delta = (compute_price(1, 1) - compute_price(1, 0)) / (S * (u - d))\n",
    "    gamma = ((compute_price(2, 2) - compute_price(2, 1)) / (S * u - S) - (compute_price(2, 1) - compute_price(2, 0)) / (S - S * d)) / ((S * u - S * d) / 2)\n",
    "    theta = (compute_price(2, 0) - option_price) / (2 * dt)\n",
    "    \n",
    "    return option_price, delta, gamma, theta"
   ]
  },
  {
   "cell_type": "code",
   "execution_count": 14,
   "id": "2a032ec0-caa2-49cf-aba9-b4e4484d2533",
   "metadata": {},
   "outputs": [],
   "source": [
    "#Function to compute rho & vega\n",
    "def compute_vega_rho(S, K, T, r, v, N, option_type1, option_type2):\n",
    "    dt_v = 0.01\n",
    "    dt_r = 0.01\n",
    "    \n",
    "    vega = (binomial_tree_crr(S, K, T, r, v + dt_v, N, option_type1, option_type2)[0] - binomial_tree_crr(S, K, T, r, v - dt_v, N, option_type1, option_type2)[0]) / (2*dt_v)\n",
    "    \n",
    "    rho = (binomial_tree_crr(S, K, T, r + dt_r, v, N, option_type1, option_type2)[0] - binomial_tree_crr(S, K, T, r - dt_r, v, N, option_type1, option_type2)[0]) / (2*dt_r)\n",
    "    \n",
    "    return vega, rho"
   ]
  },
  {
   "cell_type": "code",
   "execution_count": 15,
   "id": "6d946536-bdeb-4266-97d9-cfb8b4206204",
   "metadata": {},
   "outputs": [
    {
     "name": "stdout",
     "output_type": "stream",
     "text": [
      "European Call: (11.043871091951113, 0.6140855606115924, 0.09698709885828748, -16.56580663792667), Vega: 41.077650303367626, Rho: 50.36202762258899\n",
      "European Put: (6.166813542022532, -0.3859144393884075, 0.0769870988582875, 19.2024468061685), Vega: 41.07765030336714, Rho: -44.76250021778378\n",
      "American Call: (11.043871091951113, 0.6140855606115924, 0.09698709885828748, -16.56580663792667), Vega: 41.077650303367626, Rho: 50.36202762258899\n",
      "American Put: (6.499559886616256, -0.4179557255073039, 0.09008386293564491, 21.18260921603528), Vega: 41.82047487432281, Rho: -40.511081081587854\n"
     ]
    }
   ],
   "source": [
    "#Example \n",
    "S = 100  \n",
    "K = 100 \n",
    "T = 1   \n",
    "r = 0.05 \n",
    "v = 0.2  \n",
    "N = 3   \n",
    "\n",
    "#Pricing European Call and Put options\n",
    "european_call = binomial_tree_crr(S, K, T, r, v, N, \"european\", \"call\")\n",
    "european_put = binomial_tree_crr(S, K, T, r, v, N, \"european\", \"put\")\n",
    "vega_european_call, rho_european_call = compute_vega_rho(S, K, T, r, v, N, \"european\", \"call\")\n",
    "vega_european_put, rho_european_put = compute_vega_rho(S, K, T, r, v, N, \"european\", \"put\")\n",
    "\n",
    "#Pricing American Call and Put options\n",
    "american_call = binomial_tree_crr(S, K, T, r, v, N, \"american\", \"call\")\n",
    "american_put = binomial_tree_crr(S, K, T, r, v, N, \"american\", \"put\")\n",
    "vega_american_call, rho_american_call = compute_vega_rho(S, K, T, r, v, N, \"american\", \"call\")\n",
    "vega_american_put, rho_american_put = compute_vega_rho(S, K, T, r, v, N, \"american\", \"put\")\n",
    "\n",
    "print(f\"European Call: {european_call}, Vega: {vega_european_call}, Rho: {rho_european_call}\")\n",
    "print(f\"European Put: {european_put}, Vega: {vega_european_put}, Rho: {rho_european_put}\")\n",
    "print(f\"American Call: {american_call}, Vega: {vega_american_call}, Rho: {rho_american_call}\")\n",
    "print(f\"American Put: {american_put}, Vega: {vega_american_put}, Rho: {rho_american_put}\")"
   ]
  },
  {
   "cell_type": "code",
   "execution_count": null,
   "id": "da4094fe-e6c8-492b-8406-84026a1ca846",
   "metadata": {},
   "outputs": [],
   "source": []
  }
 ],
 "metadata": {
  "kernelspec": {
   "display_name": "Python 3 (ipykernel)",
   "language": "python",
   "name": "python3"
  },
  "language_info": {
   "codemirror_mode": {
    "name": "ipython",
    "version": 3
   },
   "file_extension": ".py",
   "mimetype": "text/x-python",
   "name": "python",
   "nbconvert_exporter": "python",
   "pygments_lexer": "ipython3",
   "version": "3.12.4"
  }
 },
 "nbformat": 4,
 "nbformat_minor": 5
}
